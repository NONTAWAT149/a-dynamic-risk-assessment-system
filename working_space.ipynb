{
 "cells": [
  {
   "cell_type": "code",
   "execution_count": 16,
   "id": "addf9576",
   "metadata": {},
   "outputs": [],
   "source": [
    "import pandas as pd\n",
    "import subprocess"
   ]
  },
  {
   "cell_type": "code",
   "execution_count": 2,
   "id": "bc4b2858",
   "metadata": {},
   "outputs": [],
   "source": [
    "df = pd.read_csv('ingesteddata/finaldata.csv')"
   ]
  },
  {
   "cell_type": "code",
   "execution_count": 3,
   "id": "8d958b86",
   "metadata": {},
   "outputs": [
    {
     "data": {
      "text/html": [
       "<div>\n",
       "<style scoped>\n",
       "    .dataframe tbody tr th:only-of-type {\n",
       "        vertical-align: middle;\n",
       "    }\n",
       "\n",
       "    .dataframe tbody tr th {\n",
       "        vertical-align: top;\n",
       "    }\n",
       "\n",
       "    .dataframe thead th {\n",
       "        text-align: right;\n",
       "    }\n",
       "</style>\n",
       "<table border=\"1\" class=\"dataframe\">\n",
       "  <thead>\n",
       "    <tr style=\"text-align: right;\">\n",
       "      <th></th>\n",
       "      <th>corporation</th>\n",
       "      <th>lastmonth_activity</th>\n",
       "      <th>lastyear_activity</th>\n",
       "      <th>number_of_employees</th>\n",
       "      <th>exited</th>\n",
       "    </tr>\n",
       "  </thead>\n",
       "  <tbody>\n",
       "    <tr>\n",
       "      <th>0</th>\n",
       "      <td>nciw</td>\n",
       "      <td>100</td>\n",
       "      <td>1359</td>\n",
       "      <td>1</td>\n",
       "      <td>0</td>\n",
       "    </tr>\n",
       "    <tr>\n",
       "      <th>1</th>\n",
       "      <td>lsid</td>\n",
       "      <td>68</td>\n",
       "      <td>282</td>\n",
       "      <td>14</td>\n",
       "      <td>0</td>\n",
       "    </tr>\n",
       "    <tr>\n",
       "      <th>2</th>\n",
       "      <td>pwls</td>\n",
       "      <td>71</td>\n",
       "      <td>949</td>\n",
       "      <td>40</td>\n",
       "      <td>1</td>\n",
       "    </tr>\n",
       "    <tr>\n",
       "      <th>3</th>\n",
       "      <td>bqlx</td>\n",
       "      <td>686</td>\n",
       "      <td>3782</td>\n",
       "      <td>103</td>\n",
       "      <td>0</td>\n",
       "    </tr>\n",
       "    <tr>\n",
       "      <th>4</th>\n",
       "      <td>zmei</td>\n",
       "      <td>45</td>\n",
       "      <td>655</td>\n",
       "      <td>7</td>\n",
       "      <td>0</td>\n",
       "    </tr>\n",
       "    <tr>\n",
       "      <th>5</th>\n",
       "      <td>wosl</td>\n",
       "      <td>0</td>\n",
       "      <td>18</td>\n",
       "      <td>21</td>\n",
       "      <td>1</td>\n",
       "    </tr>\n",
       "    <tr>\n",
       "      <th>6</th>\n",
       "      <td>xcvb</td>\n",
       "      <td>189</td>\n",
       "      <td>961</td>\n",
       "      <td>18</td>\n",
       "      <td>1</td>\n",
       "    </tr>\n",
       "    <tr>\n",
       "      <th>7</th>\n",
       "      <td>dfgh</td>\n",
       "      <td>16</td>\n",
       "      <td>1028</td>\n",
       "      <td>33</td>\n",
       "      <td>0</td>\n",
       "    </tr>\n",
       "    <tr>\n",
       "      <th>8</th>\n",
       "      <td>ngrd</td>\n",
       "      <td>9</td>\n",
       "      <td>45</td>\n",
       "      <td>1</td>\n",
       "      <td>1</td>\n",
       "    </tr>\n",
       "    <tr>\n",
       "      <th>9</th>\n",
       "      <td>xful</td>\n",
       "      <td>0</td>\n",
       "      <td>67</td>\n",
       "      <td>14</td>\n",
       "      <td>1</td>\n",
       "    </tr>\n",
       "    <tr>\n",
       "      <th>10</th>\n",
       "      <td>kshe</td>\n",
       "      <td>48</td>\n",
       "      <td>986</td>\n",
       "      <td>22</td>\n",
       "      <td>1</td>\n",
       "    </tr>\n",
       "    <tr>\n",
       "      <th>11</th>\n",
       "      <td>qqqq</td>\n",
       "      <td>52</td>\n",
       "      <td>650</td>\n",
       "      <td>11</td>\n",
       "      <td>1</td>\n",
       "    </tr>\n",
       "    <tr>\n",
       "      <th>12</th>\n",
       "      <td>corp</td>\n",
       "      <td>1090</td>\n",
       "      <td>2452</td>\n",
       "      <td>9</td>\n",
       "      <td>0</td>\n",
       "    </tr>\n",
       "    <tr>\n",
       "      <th>13</th>\n",
       "      <td>ekci</td>\n",
       "      <td>6</td>\n",
       "      <td>88</td>\n",
       "      <td>90</td>\n",
       "      <td>1</td>\n",
       "    </tr>\n",
       "    <tr>\n",
       "      <th>14</th>\n",
       "      <td>dosk</td>\n",
       "      <td>99</td>\n",
       "      <td>390</td>\n",
       "      <td>99</td>\n",
       "      <td>1</td>\n",
       "    </tr>\n",
       "    <tr>\n",
       "      <th>15</th>\n",
       "      <td>endi</td>\n",
       "      <td>75</td>\n",
       "      <td>800</td>\n",
       "      <td>81</td>\n",
       "      <td>1</td>\n",
       "    </tr>\n",
       "    <tr>\n",
       "      <th>16</th>\n",
       "      <td>gudj</td>\n",
       "      <td>255</td>\n",
       "      <td>1687</td>\n",
       "      <td>2</td>\n",
       "      <td>0</td>\n",
       "    </tr>\n",
       "    <tr>\n",
       "      <th>17</th>\n",
       "      <td>abcd</td>\n",
       "      <td>78</td>\n",
       "      <td>1024</td>\n",
       "      <td>12</td>\n",
       "      <td>1</td>\n",
       "    </tr>\n",
       "    <tr>\n",
       "      <th>18</th>\n",
       "      <td>asdf</td>\n",
       "      <td>14</td>\n",
       "      <td>2145</td>\n",
       "      <td>20</td>\n",
       "      <td>0</td>\n",
       "    </tr>\n",
       "    <tr>\n",
       "      <th>19</th>\n",
       "      <td>xyzz</td>\n",
       "      <td>182</td>\n",
       "      <td>3891</td>\n",
       "      <td>35</td>\n",
       "      <td>0</td>\n",
       "    </tr>\n",
       "    <tr>\n",
       "      <th>20</th>\n",
       "      <td>acme</td>\n",
       "      <td>101</td>\n",
       "      <td>10983</td>\n",
       "      <td>2</td>\n",
       "      <td>1</td>\n",
       "    </tr>\n",
       "    <tr>\n",
       "      <th>21</th>\n",
       "      <td>qwer</td>\n",
       "      <td>0</td>\n",
       "      <td>118</td>\n",
       "      <td>42</td>\n",
       "      <td>1</td>\n",
       "    </tr>\n",
       "    <tr>\n",
       "      <th>22</th>\n",
       "      <td>tyui</td>\n",
       "      <td>929</td>\n",
       "      <td>1992</td>\n",
       "      <td>1</td>\n",
       "      <td>0</td>\n",
       "    </tr>\n",
       "    <tr>\n",
       "      <th>23</th>\n",
       "      <td>zxcv</td>\n",
       "      <td>19</td>\n",
       "      <td>455</td>\n",
       "      <td>8</td>\n",
       "      <td>1</td>\n",
       "    </tr>\n",
       "    <tr>\n",
       "      <th>24</th>\n",
       "      <td>hjkl</td>\n",
       "      <td>94</td>\n",
       "      <td>868</td>\n",
       "      <td>3</td>\n",
       "      <td>1</td>\n",
       "    </tr>\n",
       "    <tr>\n",
       "      <th>25</th>\n",
       "      <td>lmno</td>\n",
       "      <td>81</td>\n",
       "      <td>1401</td>\n",
       "      <td>10</td>\n",
       "      <td>0</td>\n",
       "    </tr>\n",
       "  </tbody>\n",
       "</table>\n",
       "</div>"
      ],
      "text/plain": [
       "   corporation  lastmonth_activity  lastyear_activity  number_of_employees  \\\n",
       "0         nciw                 100               1359                    1   \n",
       "1         lsid                  68                282                   14   \n",
       "2         pwls                  71                949                   40   \n",
       "3         bqlx                 686               3782                  103   \n",
       "4         zmei                  45                655                    7   \n",
       "5         wosl                   0                 18                   21   \n",
       "6         xcvb                 189                961                   18   \n",
       "7         dfgh                  16               1028                   33   \n",
       "8         ngrd                   9                 45                    1   \n",
       "9         xful                   0                 67                   14   \n",
       "10        kshe                  48                986                   22   \n",
       "11        qqqq                  52                650                   11   \n",
       "12        corp                1090               2452                    9   \n",
       "13        ekci                   6                 88                   90   \n",
       "14        dosk                  99                390                   99   \n",
       "15        endi                  75                800                   81   \n",
       "16        gudj                 255               1687                    2   \n",
       "17        abcd                  78               1024                   12   \n",
       "18        asdf                  14               2145                   20   \n",
       "19        xyzz                 182               3891                   35   \n",
       "20        acme                 101              10983                    2   \n",
       "21        qwer                   0                118                   42   \n",
       "22        tyui                 929               1992                    1   \n",
       "23        zxcv                  19                455                    8   \n",
       "24        hjkl                  94                868                    3   \n",
       "25        lmno                  81               1401                   10   \n",
       "\n",
       "    exited  \n",
       "0        0  \n",
       "1        0  \n",
       "2        1  \n",
       "3        0  \n",
       "4        0  \n",
       "5        1  \n",
       "6        1  \n",
       "7        0  \n",
       "8        1  \n",
       "9        1  \n",
       "10       1  \n",
       "11       1  \n",
       "12       0  \n",
       "13       1  \n",
       "14       1  \n",
       "15       1  \n",
       "16       0  \n",
       "17       1  \n",
       "18       0  \n",
       "19       0  \n",
       "20       1  \n",
       "21       1  \n",
       "22       0  \n",
       "23       1  \n",
       "24       1  \n",
       "25       0  "
      ]
     },
     "execution_count": 3,
     "metadata": {},
     "output_type": "execute_result"
    }
   ],
   "source": [
    "df"
   ]
  },
  {
   "cell_type": "code",
   "execution_count": 4,
   "id": "77b54700",
   "metadata": {},
   "outputs": [
    {
     "data": {
      "text/plain": [
       "['corporation',\n",
       " 'lastmonth_activity',\n",
       " 'lastyear_activity',\n",
       " 'number_of_employees',\n",
       " 'exited']"
      ]
     },
     "execution_count": 4,
     "metadata": {},
     "output_type": "execute_result"
    }
   ],
   "source": [
    "df.columns.to_list()"
   ]
  },
  {
   "cell_type": "code",
   "execution_count": 5,
   "id": "8de97abe",
   "metadata": {},
   "outputs": [],
   "source": [
    "missing_data = {}\n",
    "for column_name in df.columns.to_list():\n",
    "    missing_data[column_name] = df[column_name].isna().sum()"
   ]
  },
  {
   "cell_type": "code",
   "execution_count": 6,
   "id": "a078a2bc",
   "metadata": {},
   "outputs": [
    {
     "data": {
      "text/plain": [
       "{'corporation': 0,\n",
       " 'lastmonth_activity': 0,\n",
       " 'lastyear_activity': 0,\n",
       " 'number_of_employees': 0,\n",
       " 'exited': 0}"
      ]
     },
     "execution_count": 6,
     "metadata": {},
     "output_type": "execute_result"
    }
   ],
   "source": [
    "missing_data"
   ]
  },
  {
   "cell_type": "code",
   "execution_count": 7,
   "id": "aaa9fac3",
   "metadata": {},
   "outputs": [
    {
     "data": {
      "text/plain": [
       "dtype('int64')"
      ]
     },
     "execution_count": 7,
     "metadata": {},
     "output_type": "execute_result"
    }
   ],
   "source": [
    "df['exited'].dtypes"
   ]
  },
  {
   "cell_type": "code",
   "execution_count": 8,
   "id": "4f70a6a9",
   "metadata": {},
   "outputs": [
    {
     "name": "stderr",
     "output_type": "stream",
     "text": [
      "/var/folders/0_/zjgxy1ks2znfxyb1h29b9g_00000gn/T/ipykernel_1478/2130085253.py:1: ParserWarning: Falling back to the 'python' engine because the 'c' engine does not support regex separators (separators > 1 char and different from '\\s+' are interpreted as regex); you can avoid this warning by specifying engine='python'.\n",
      "  df = pd.read_csv('requirements.txt', sep=\"==\", header=None, names = ['package', 'current_version'])\n"
     ]
    }
   ],
   "source": [
    "df = pd.read_csv('requirements.txt', sep=\"==\", header=None, names = ['package', 'current_version'])"
   ]
  },
  {
   "cell_type": "code",
   "execution_count": 9,
   "id": "a31bed3a",
   "metadata": {},
   "outputs": [
    {
     "data": {
      "text/html": [
       "<div>\n",
       "<style scoped>\n",
       "    .dataframe tbody tr th:only-of-type {\n",
       "        vertical-align: middle;\n",
       "    }\n",
       "\n",
       "    .dataframe tbody tr th {\n",
       "        vertical-align: top;\n",
       "    }\n",
       "\n",
       "    .dataframe thead th {\n",
       "        text-align: right;\n",
       "    }\n",
       "</style>\n",
       "<table border=\"1\" class=\"dataframe\">\n",
       "  <thead>\n",
       "    <tr style=\"text-align: right;\">\n",
       "      <th></th>\n",
       "      <th>package</th>\n",
       "      <th>current_version</th>\n",
       "    </tr>\n",
       "  </thead>\n",
       "  <tbody>\n",
       "    <tr>\n",
       "      <th>0</th>\n",
       "      <td>click</td>\n",
       "      <td>7.1.2</td>\n",
       "    </tr>\n",
       "    <tr>\n",
       "      <th>1</th>\n",
       "      <td>cycler</td>\n",
       "      <td>0.10.0</td>\n",
       "    </tr>\n",
       "    <tr>\n",
       "      <th>2</th>\n",
       "      <td>Flask</td>\n",
       "      <td>1.1.2</td>\n",
       "    </tr>\n",
       "    <tr>\n",
       "      <th>3</th>\n",
       "      <td>gunicorn</td>\n",
       "      <td>20.0.4</td>\n",
       "    </tr>\n",
       "    <tr>\n",
       "      <th>4</th>\n",
       "      <td>itsdangerous</td>\n",
       "      <td>1.1.0</td>\n",
       "    </tr>\n",
       "    <tr>\n",
       "      <th>5</th>\n",
       "      <td>Jinja2</td>\n",
       "      <td>2.11.3</td>\n",
       "    </tr>\n",
       "    <tr>\n",
       "      <th>6</th>\n",
       "      <td>joblib</td>\n",
       "      <td>1.0.1</td>\n",
       "    </tr>\n",
       "    <tr>\n",
       "      <th>7</th>\n",
       "      <td>kiwisolver</td>\n",
       "      <td>1.3.1</td>\n",
       "    </tr>\n",
       "    <tr>\n",
       "      <th>8</th>\n",
       "      <td>MarkupSafe</td>\n",
       "      <td>1.1.1</td>\n",
       "    </tr>\n",
       "    <tr>\n",
       "      <th>9</th>\n",
       "      <td>matplotlib</td>\n",
       "      <td>3.3.4</td>\n",
       "    </tr>\n",
       "    <tr>\n",
       "      <th>10</th>\n",
       "      <td>numpy</td>\n",
       "      <td>1.20.1</td>\n",
       "    </tr>\n",
       "    <tr>\n",
       "      <th>11</th>\n",
       "      <td>pandas</td>\n",
       "      <td>1.2.2</td>\n",
       "    </tr>\n",
       "    <tr>\n",
       "      <th>12</th>\n",
       "      <td>Pillow</td>\n",
       "      <td>8.1.0</td>\n",
       "    </tr>\n",
       "    <tr>\n",
       "      <th>13</th>\n",
       "      <td>pyparsing</td>\n",
       "      <td>2.4.7</td>\n",
       "    </tr>\n",
       "    <tr>\n",
       "      <th>14</th>\n",
       "      <td>python-dateutil</td>\n",
       "      <td>2.8.1</td>\n",
       "    </tr>\n",
       "    <tr>\n",
       "      <th>15</th>\n",
       "      <td>pytz</td>\n",
       "      <td>2021.1</td>\n",
       "    </tr>\n",
       "    <tr>\n",
       "      <th>16</th>\n",
       "      <td>scikit-learn</td>\n",
       "      <td>0.24.1</td>\n",
       "    </tr>\n",
       "    <tr>\n",
       "      <th>17</th>\n",
       "      <td>scipy</td>\n",
       "      <td>1.6.1</td>\n",
       "    </tr>\n",
       "    <tr>\n",
       "      <th>18</th>\n",
       "      <td>seaborn</td>\n",
       "      <td>0.11.1</td>\n",
       "    </tr>\n",
       "    <tr>\n",
       "      <th>19</th>\n",
       "      <td>six</td>\n",
       "      <td>1.15.0</td>\n",
       "    </tr>\n",
       "    <tr>\n",
       "      <th>20</th>\n",
       "      <td>sklearn</td>\n",
       "      <td>0.0</td>\n",
       "    </tr>\n",
       "    <tr>\n",
       "      <th>21</th>\n",
       "      <td>threadpoolctl</td>\n",
       "      <td>2.1.0</td>\n",
       "    </tr>\n",
       "    <tr>\n",
       "      <th>22</th>\n",
       "      <td>Werkzeug</td>\n",
       "      <td>1.0.1</td>\n",
       "    </tr>\n",
       "  </tbody>\n",
       "</table>\n",
       "</div>"
      ],
      "text/plain": [
       "            package current_version\n",
       "0             click           7.1.2\n",
       "1            cycler          0.10.0\n",
       "2             Flask           1.1.2\n",
       "3          gunicorn          20.0.4\n",
       "4      itsdangerous           1.1.0\n",
       "5            Jinja2          2.11.3\n",
       "6            joblib           1.0.1\n",
       "7        kiwisolver           1.3.1\n",
       "8        MarkupSafe           1.1.1\n",
       "9        matplotlib           3.3.4\n",
       "10            numpy          1.20.1\n",
       "11           pandas           1.2.2\n",
       "12           Pillow           8.1.0\n",
       "13        pyparsing           2.4.7\n",
       "14  python-dateutil           2.8.1\n",
       "15             pytz          2021.1\n",
       "16     scikit-learn          0.24.1\n",
       "17            scipy           1.6.1\n",
       "18          seaborn          0.11.1\n",
       "19              six          1.15.0\n",
       "20          sklearn             0.0\n",
       "21    threadpoolctl           2.1.0\n",
       "22         Werkzeug           1.0.1"
      ]
     },
     "execution_count": 9,
     "metadata": {},
     "output_type": "execute_result"
    }
   ],
   "source": [
    "df"
   ]
  },
  {
   "cell_type": "code",
   "execution_count": 10,
   "id": "c1a2c40a",
   "metadata": {},
   "outputs": [],
   "source": [
    "import json\n",
    "import os\n",
    "import pickle"
   ]
  },
  {
   "cell_type": "code",
   "execution_count": 11,
   "id": "99f88eb7",
   "metadata": {},
   "outputs": [],
   "source": [
    "with open('config.json','r') as f:\n",
    "    config = json.load(f) "
   ]
  },
  {
   "cell_type": "code",
   "execution_count": 44,
   "id": "25858f0f",
   "metadata": {},
   "outputs": [],
   "source": [
    "dataset_csv_path = os.path.join(config['output_folder_path']) \n",
    "test_data_path = os.path.join(config['test_data_path'])\n",
    "prod_deployment_path = os.path.join(config['prod_deployment_path'])\n",
    "input_folder_path = config['input_folder_path']"
   ]
  },
  {
   "cell_type": "code",
   "execution_count": 45,
   "id": "90476be4",
   "metadata": {},
   "outputs": [],
   "source": [
    "#import model\n",
    "file_path = os.getcwd() + '/' + prod_deployment_path + '/ingestedfiles.txt'\n",
    "with open(file_path, 'r') as file:\n",
    "    txt_file = file.readlines()\n",
    "file.close()"
   ]
  },
  {
   "cell_type": "code",
   "execution_count": 46,
   "id": "6e9f432f",
   "metadata": {},
   "outputs": [
    {
     "data": {
      "text/plain": [
       "['practicedata\\n',\n",
       " \"['dataset1.csv', 'dataset2.csv']\\n\",\n",
       " '26\\n',\n",
       " '2022-08-08 22:48:30.130521\\n']"
      ]
     },
     "execution_count": 46,
     "metadata": {},
     "output_type": "execute_result"
    }
   ],
   "source": [
    "txt_file"
   ]
  },
  {
   "cell_type": "code",
   "execution_count": 47,
   "id": "bb565862",
   "metadata": {},
   "outputs": [],
   "source": [
    "exist_file_name = txt_file[1]"
   ]
  },
  {
   "cell_type": "code",
   "execution_count": 48,
   "id": "0105766f",
   "metadata": {},
   "outputs": [],
   "source": [
    "exist_file_name = exist_file_name.replace('\\n', '')\n",
    "exist_file_name = exist_file_name.replace('[', '')\n",
    "exist_file_name = exist_file_name.replace(']', '')\n",
    "exist_file_name = exist_file_name.replace('\"', '')\n",
    "exist_file_name = exist_file_name.replace(\"'\", \"\")\n",
    "exist_file_name = exist_file_name.replace(' ', '')"
   ]
  },
  {
   "cell_type": "code",
   "execution_count": 54,
   "id": "6874312f",
   "metadata": {},
   "outputs": [
    {
     "data": {
      "text/plain": [
       "['dataset1.csv', 'dataset2.csv']"
      ]
     },
     "execution_count": 54,
     "metadata": {},
     "output_type": "execute_result"
    }
   ],
   "source": [
    "exist_file_name"
   ]
  },
  {
   "cell_type": "code",
   "execution_count": 50,
   "id": "64a53ed4",
   "metadata": {},
   "outputs": [],
   "source": [
    "exist_file_name = exist_file_name.split(',')"
   ]
  },
  {
   "cell_type": "code",
   "execution_count": 51,
   "id": "9a9edcf3",
   "metadata": {},
   "outputs": [
    {
     "data": {
      "text/plain": [
       "['dataset1.csv', 'dataset2.csv']"
      ]
     },
     "execution_count": 51,
     "metadata": {},
     "output_type": "execute_result"
    }
   ],
   "source": [
    "exist_file_name"
   ]
  },
  {
   "cell_type": "code",
   "execution_count": 52,
   "id": "026dae3a",
   "metadata": {},
   "outputs": [],
   "source": [
    "file_name_list = os.listdir(os.getcwd() + '/' + input_folder_path)"
   ]
  },
  {
   "cell_type": "code",
   "execution_count": 53,
   "id": "1042b053",
   "metadata": {},
   "outputs": [
    {
     "data": {
      "text/plain": [
       "['dataset4.csv', '.DS_Store', 'dataset3.csv']"
      ]
     },
     "execution_count": 53,
     "metadata": {},
     "output_type": "execute_result"
    }
   ],
   "source": [
    "file_name_list"
   ]
  },
  {
   "cell_type": "code",
   "execution_count": 55,
   "id": "f315e7c6",
   "metadata": {},
   "outputs": [],
   "source": [
    "new_file = []\n",
    "for file_name in file_name_list:\n",
    "    if file_name[-3:] == 'csv' and file_name not in exist_file_name:\n",
    "        new_file.append(file_name)"
   ]
  },
  {
   "cell_type": "code",
   "execution_count": 56,
   "id": "09ce9221",
   "metadata": {},
   "outputs": [
    {
     "data": {
      "text/plain": [
       "['dataset4.csv', 'dataset3.csv']"
      ]
     },
     "execution_count": 56,
     "metadata": {},
     "output_type": "execute_result"
    }
   ],
   "source": [
    "new_file"
   ]
  },
  {
   "cell_type": "code",
   "execution_count": null,
   "id": "4ee494cb",
   "metadata": {},
   "outputs": [],
   "source": []
  },
  {
   "cell_type": "code",
   "execution_count": 22,
   "id": "fcda0184",
   "metadata": {},
   "outputs": [],
   "source": [
    "import json\n",
    "import os"
   ]
  },
  {
   "cell_type": "code",
   "execution_count": 23,
   "id": "f9d02598",
   "metadata": {},
   "outputs": [],
   "source": [
    "import pandas as pd\n",
    "import pickle"
   ]
  },
  {
   "cell_type": "code",
   "execution_count": 24,
   "id": "4ac7b08f",
   "metadata": {},
   "outputs": [],
   "source": [
    "with open('config.json','r') as f:\n",
    "    config = json.load(f) \n",
    "\n",
    "dataset_csv_path = os.path.join(config['output_folder_path']) \n",
    "test_data_path = os.path.join(config['test_data_path'])\n",
    "model_path = os.path.join(config['prod_deployment_path'])\n",
    "\n",
    "##################Function to get model predictions\n",
    "def model_predictions(input_data):\n",
    "    #read the deployed model and a test dataset, calculate predictions\n",
    "\n",
    "    #get test data\n",
    "    #input_data = pd.read_csv(test_data_path + '/testdata.csv')\n",
    "\n",
    "    #import model\n",
    "    model_file = os.getcwd() + '/' + model_path + '/trainedmodel.pkl'\n",
    "    with open(model_file, 'rb') as file:\n",
    "        model = pickle.load(file)\n",
    "\n",
    "    # return value should be a list containing all predictions\n",
    "    return model.predict(input_data) #run prediction"
   ]
  },
  {
   "cell_type": "code",
   "execution_count": 28,
   "id": "cdf5b895",
   "metadata": {},
   "outputs": [],
   "source": [
    "input_data = pd.read_csv(test_data_path + '/testdata.csv')\n",
    "x_data = input_data[['lastmonth_activity',\n",
    "                        'lastyear_activity',\n",
    "                         'number_of_employees']]"
   ]
  },
  {
   "cell_type": "code",
   "execution_count": 30,
   "id": "da14f7f4",
   "metadata": {},
   "outputs": [
    {
     "name": "stderr",
     "output_type": "stream",
     "text": [
      "/Users/nontawatpattanajak/opt/anaconda3/lib/python3.9/site-packages/sklearn/base.py:329: UserWarning: Trying to unpickle estimator LogisticRegression from version 0.24.1 when using version 1.0.2. This might lead to breaking code or invalid results. Use at your own risk. For more info please refer to:\n",
      "https://scikit-learn.org/stable/modules/model_persistence.html#security-maintainability-limitations\n",
      "  warnings.warn(\n",
      "/Users/nontawatpattanajak/opt/anaconda3/lib/python3.9/site-packages/sklearn/base.py:443: UserWarning: X has feature names, but LogisticRegression was fitted without feature names\n",
      "  warnings.warn(\n"
     ]
    }
   ],
   "source": [
    "prediction = model_predictions(x_data)"
   ]
  },
  {
   "cell_type": "code",
   "execution_count": 33,
   "id": "e7164aaf",
   "metadata": {},
   "outputs": [
    {
     "data": {
      "text/plain": [
       "'[0 1 1 1 1]'"
      ]
     },
     "execution_count": 33,
     "metadata": {},
     "output_type": "execute_result"
    }
   ],
   "source": [
    "str(prediction)"
   ]
  },
  {
   "cell_type": "code",
   "execution_count": null,
   "id": "5591d152",
   "metadata": {},
   "outputs": [],
   "source": []
  },
  {
   "cell_type": "code",
   "execution_count": null,
   "id": "28213158",
   "metadata": {},
   "outputs": [],
   "source": []
  },
  {
   "cell_type": "code",
   "execution_count": null,
   "id": "c8313ab1",
   "metadata": {},
   "outputs": [],
   "source": []
  },
  {
   "cell_type": "code",
   "execution_count": 27,
   "id": "2cba8c73",
   "metadata": {},
   "outputs": [
    {
     "data": {
      "text/html": [
       "<div>\n",
       "<style scoped>\n",
       "    .dataframe tbody tr th:only-of-type {\n",
       "        vertical-align: middle;\n",
       "    }\n",
       "\n",
       "    .dataframe tbody tr th {\n",
       "        vertical-align: top;\n",
       "    }\n",
       "\n",
       "    .dataframe thead th {\n",
       "        text-align: right;\n",
       "    }\n",
       "</style>\n",
       "<table border=\"1\" class=\"dataframe\">\n",
       "  <thead>\n",
       "    <tr style=\"text-align: right;\">\n",
       "      <th></th>\n",
       "      <th>corporation</th>\n",
       "      <th>lastmonth_activity</th>\n",
       "      <th>lastyear_activity</th>\n",
       "      <th>number_of_employees</th>\n",
       "      <th>exited</th>\n",
       "    </tr>\n",
       "  </thead>\n",
       "  <tbody>\n",
       "    <tr>\n",
       "      <th>0</th>\n",
       "      <td>werf</td>\n",
       "      <td>234</td>\n",
       "      <td>3</td>\n",
       "      <td>10</td>\n",
       "      <td>1</td>\n",
       "    </tr>\n",
       "    <tr>\n",
       "      <th>1</th>\n",
       "      <td>sdfv</td>\n",
       "      <td>14</td>\n",
       "      <td>2145</td>\n",
       "      <td>99</td>\n",
       "      <td>0</td>\n",
       "    </tr>\n",
       "    <tr>\n",
       "      <th>2</th>\n",
       "      <td>edcv</td>\n",
       "      <td>34</td>\n",
       "      <td>333</td>\n",
       "      <td>1000</td>\n",
       "      <td>0</td>\n",
       "    </tr>\n",
       "    <tr>\n",
       "      <th>3</th>\n",
       "      <td>uhgr</td>\n",
       "      <td>101</td>\n",
       "      <td>12346</td>\n",
       "      <td>2</td>\n",
       "      <td>1</td>\n",
       "    </tr>\n",
       "    <tr>\n",
       "      <th>4</th>\n",
       "      <td>okjh</td>\n",
       "      <td>0</td>\n",
       "      <td>675</td>\n",
       "      <td>25</td>\n",
       "      <td>1</td>\n",
       "    </tr>\n",
       "  </tbody>\n",
       "</table>\n",
       "</div>"
      ],
      "text/plain": [
       "  corporation  lastmonth_activity  lastyear_activity  number_of_employees  \\\n",
       "0        werf                 234                  3                   10   \n",
       "1        sdfv                  14               2145                   99   \n",
       "2        edcv                  34                333                 1000   \n",
       "3        uhgr                 101              12346                    2   \n",
       "4        okjh                   0                675                   25   \n",
       "\n",
       "   exited  \n",
       "0       1  \n",
       "1       0  \n",
       "2       0  \n",
       "3       1  \n",
       "4       1  "
      ]
     },
     "execution_count": 27,
     "metadata": {},
     "output_type": "execute_result"
    }
   ],
   "source": [
    "input_data"
   ]
  },
  {
   "cell_type": "code",
   "execution_count": 17,
   "id": "bb4ee186",
   "metadata": {},
   "outputs": [],
   "source": [
    "outdate_list = subprocess.check_output(['pip', 'list', '--outdated'])"
   ]
  },
  {
   "cell_type": "code",
   "execution_count": 18,
   "id": "07745d1d",
   "metadata": {},
   "outputs": [
    {
     "data": {
      "text/plain": [
       "b'Package                  Version   Latest      Type\\n------------------------ --------- ----------- -----\\nanyio                    3.5.0     3.6.1       wheel\\napplaunchservices        0.2.1     0.3.0       wheel\\nappnope                  0.1.2     0.1.3       wheel\\nappscript                1.1.2     1.2.0       wheel\\nastroid                  2.6.6     2.12.2      wheel\\nastropy                  5.0.4     5.1         wheel\\nasttokens                2.0.5     2.0.7       wheel\\nasync-timeout            4.0.1     4.0.2       wheel\\natomicwrites             1.4.0     1.4.1       sdist\\nattrs                    21.4.0    22.1.0      wheel\\nautopep8                 1.6.0     1.7.0       wheel\\nBabel                    2.9.1     2.10.3      wheel\\nbcrypt                   3.2.0     3.2.2       wheel\\nbitarray                 2.4.1     2.6.0       wheel\\nblack                    19.10b0   22.6.0      wheel\\nbleach                   4.1.0     5.0.1       wheel\\nbokeh                    2.4.2     2.4.3       wheel\\nboto3                    1.21.32   1.24.51     wheel\\nbotocore                 1.24.32   1.27.51     wheel\\nBottleneck               1.3.4     1.3.5       wheel\\ncachetools               4.2.2     5.2.0       wheel\\ncertifi                  2021.10.8 2022.6.15   wheel\\ncffi                     1.15.0    1.15.1      wheel\\nchardet                  4.0.0     5.0.0       wheel\\ncharset-normalizer       2.0.4     2.1.0       wheel\\nclick                    8.0.4     8.1.3       wheel\\ncloudpickle              2.0.0     2.1.0       wheel\\ncolorama                 0.4.4     0.4.5       wheel\\ncolorcet                 2.0.6     3.0.0       wheel\\ncookiecutter             1.7.3     2.1.1       wheel\\ncryptography             3.4.8     37.0.4      wheel\\nCython                   0.29.28   0.29.32     wheel\\ncytoolz                  0.11.0    0.12.0      wheel\\ndaal4py                  2021.5.0  2021.6.3    wheel\\ndask                     2022.2.1  2022.8.0    wheel\\ndatashader               0.13.0    0.14.2      wheel\\ndebugpy                  1.5.1     1.6.2       wheel\\ndistributed              2022.2.1  2022.8.0    wheel\\ndocutils                 0.17.1    0.19        wheel\\nexecuting                0.8.3     0.10.0      wheel\\nfastjsonschema           2.15.1    2.16.1      wheel\\nfilelock                 3.6.0     3.8.0       wheel\\nflake8                   3.9.2     5.0.4       wheel\\nFlask                    1.1.2     2.2.2       wheel\\nfonttools                4.25.0    4.34.4      wheel\\nfrozenlist               1.2.0     1.3.1       wheel\\nfsspec                   2022.2.0  2022.7.1    wheel\\ngensim                   4.1.2     4.2.0       wheel\\ngoogle-api-core          1.25.1    2.8.2       wheel\\ngoogle-auth              1.33.0    2.10.0      wheel\\ngoogle-cloud-core        1.7.1     2.3.2       wheel\\ngoogle-cloud-storage     1.31.0    2.5.0       wheel\\ngoogle-crc32c            1.1.2     1.3.0       wheel\\ngoogle-resumable-media   1.3.1     2.3.3       wheel\\ngoogleapis-common-protos 1.53.0    1.56.4      wheel\\ngreenlet                 1.1.1     1.1.2       wheel\\ngrpcio                   1.42.0    1.47.0      wheel\\nh5py                     3.6.0     3.7.0       wheel\\nholoviews                1.14.8    1.15.0      wheel\\nhvplot                   0.7.3     0.8.0       wheel\\nimagecodecs              2021.8.26 2022.8.8    wheel\\nimageio                  2.9.0     2.21.1      wheel\\nimagesize                1.3.0     1.4.1       wheel\\nimportlib-metadata       4.11.3    4.12.0      wheel\\nipykernel                6.9.1     6.15.1      wheel\\nipython                  8.2.0     8.4.0       wheel\\nipywidgets               7.6.5     7.7.1       wheel\\nisort                    5.9.3     5.10.1      wheel\\nitemadapter              0.3.0     0.7.0       wheel\\nitsdangerous             2.0.1     2.1.2       wheel\\nJinja2                   2.11.3    3.1.2       wheel\\njmespath                 0.10.0    1.0.1       wheel\\njson5                    0.9.6     0.9.9       wheel\\njsonschema               4.4.0     4.9.1       wheel\\njupyter-client           6.1.12    7.3.4       wheel\\njupyter-console          6.4.0     6.4.4       wheel\\njupyter-core             4.9.2     4.11.1      wheel\\njupyter-server           1.13.5    1.18.1      wheel\\njupyterlab               3.3.2     3.4.5       wheel\\njupyterlab-pygments      0.1.2     0.2.2       wheel\\njupyterlab-server        2.10.3    2.15.0      wheel\\njupyterlab-widgets       1.0.0     1.1.1       wheel\\nkeyring                  23.4.0    23.8.2      wheel\\nkiwisolver               1.3.2     1.4.4       wheel\\nlazy-object-proxy        1.6.0     1.7.1       wheel\\nlibarchive-c             2.9       4.0         wheel\\nllvmlite                 0.38.0    0.39.0      wheel\\nlocket                   0.2.1     1.0.0       wheel\\nlxml                     4.8.0     4.9.1       wheel\\nMarkdown                 3.3.4     3.4.1       wheel\\nMarkupSafe               2.0.1     2.1.1       wheel\\nmatplotlib               3.5.1     3.5.3       wheel\\nmatplotlib-inline        0.1.2     0.1.3       wheel\\nmccabe                   0.6.1     0.7.0       wheel\\nmistune                  0.8.4     2.0.4       wheel\\nmsgpack                  1.0.2     1.0.4       wheel\\nmultidict                5.2.0     6.0.2       wheel\\nnbclassic                0.3.5     0.4.3       wheel\\nnbclient                 0.5.13    0.6.6       wheel\\nnbconvert                6.4.4     6.5.3       wheel\\nnbformat                 5.3.0     5.4.0       wheel\\nnetworkx                 2.7.1     2.8.5       wheel\\nnotebook                 6.4.8     6.4.12      wheel\\nnumba                    0.55.1    0.56.0      wheel\\nnumexpr                  2.8.1     2.8.3       wheel\\nnumpy                    1.21.5    1.23.2      wheel\\nnumpydoc                 1.2       1.4.0       wheel\\nopenpyxl                 3.0.9     3.0.10      wheel\\npandas                   1.4.2     1.4.3       wheel\\npanel                    0.13.0    0.13.1      wheel\\nparam                    1.12.0    1.12.2      wheel\\npartd                    1.2.0     1.3.0       wheel\\npathspec                 0.7.0     0.9.0       wheel\\nPillow                   9.0.1     9.2.0       wheel\\npip                      21.2.4    22.2.2      wheel\\npkginfo                  1.8.2     1.8.3       wheel\\nplotly                   5.6.0     5.10.0      wheel\\nprometheus-client        0.13.1    0.14.1      wheel\\nprompt-toolkit           3.0.20    3.0.30      wheel\\nProtego                  0.1.16    0.2.1       wheel\\nprotobuf                 3.19.1    4.21.5      wheel\\npsutil                   5.8.0     5.9.1       wheel\\npycodestyle              2.7.0     2.9.1       wheel\\npyct                     0.4.6     0.4.8       wheel\\npycurl                   7.44.1    7.45.1      sdist\\npyerfa                   2.0.0     2.0.0.1     wheel\\npyflakes                 2.3.1     2.5.0       wheel\\nPygments                 2.11.2    2.12.0      wheel\\nPyHamcrest               2.0.2     2.0.4       wheel\\nPyJWT                    2.1.0     2.4.0       wheel\\npylint                   2.9.6     2.14.5      wheel\\npyodbc                   4.0.32    4.0.34      wheel\\npyOpenSSL                21.0.0    22.0.0      wheel\\npyparsing                3.0.4     3.0.9       wheel\\npyrsistent               0.18.0    0.18.1      wheel\\npytest                   7.1.1     7.1.2       wheel\\npython-lsp-black         1.0.0     1.2.1       wheel\\npython-lsp-server        1.2.4     1.5.0       wheel\\npython-slugify           5.0.2     6.1.2       wheel\\npython-snappy            0.6.0     0.6.1       wheel\\npytz                     2021.3    2022.2.1    wheel\\npyviz-comms              2.0.2     2.2.0       wheel\\npyzmq                    22.3.0    23.2.1      wheel\\nQDarkStyle               3.0.2     3.1         wheel\\nqstylizer                0.1.10    0.2.1       wheel\\nQtAwesome                1.0.3     1.1.1       wheel\\nqtconsole                5.3.0     5.3.1       wheel\\nQtPy                     2.0.1     2.2.0       wheel\\nqueuelib                 1.5.0     1.6.2       wheel\\nregex                    2022.3.15 2022.7.25   wheel\\nrequests                 2.27.1    2.28.1      wheel\\nrope                     0.22.0    1.3.0       wheel\\nrsa                      4.7.2     4.9         wheel\\nRtree                    0.9.7     1.0.0       wheel\\ns3transfer               0.5.0     0.6.0       wheel\\nscikit-image             0.19.2    0.19.3      wheel\\nscikit-learn             1.0.2     1.1.2       wheel\\nscipy                    1.7.3     1.9.0       wheel\\nScrapy                   2.6.1     2.6.2       wheel\\nservice-identity         18.1.0    21.1.0      wheel\\nsetuptools               61.2.0    64.0.3      wheel\\nsip                      4.19.13   6.6.2       wheel\\nsmart-open               5.1.0     6.0.0       wheel\\nsoupsieve                2.3.1     2.3.2.post1 wheel\\nSphinx                   4.4.0     5.1.1       wheel\\nspyder                   5.1.5     5.3.2       wheel\\nspyder-kernels           2.1.3     2.3.2       wheel\\nSQLAlchemy               1.4.32    1.4.40      wheel\\nstack-data               0.2.0     0.4.0       wheel\\ntables                   3.6.1     3.7.0       wheel\\ntabulate                 0.8.9     0.8.10      wheel\\nTBB                      0.2       2021.6.0    wheel\\nterminado                0.13.1    0.15.0      wheel\\ntestpath                 0.5.0     0.6.0       wheel\\ntextdistance             4.2.1     4.3.0       wheel\\nthreadpoolctl            2.2.0     3.1.0       wheel\\ntifffile                 2021.7.2  2022.8.12   wheel\\ntldextract               3.2.0     3.3.1       wheel\\ntomli                    1.2.2     2.0.1       wheel\\ntoolz                    0.11.2    0.12.0      wheel\\ntornado                  6.1       6.2         wheel\\ntraitlets                5.1.1     5.3.0       wheel\\nTwisted                  22.2.0    22.4.0      wheel\\ntyped-ast                1.4.3     1.5.4       wheel\\ntyping_extensions        4.1.1     4.3.0       wheel\\nujson                    5.1.0     5.4.0       wheel\\nUnidecode                1.2.0     1.3.4       wheel\\nurllib3                  1.26.9    1.26.11     wheel\\nw3lib                    1.21.0    2.0.1       wheel\\nwatchdog                 2.1.6     2.1.9       wheel\\nwebsocket-client         0.58.0    1.3.3       wheel\\nWerkzeug                 2.0.3     2.2.2       wheel\\nwidgetsnbextension       3.5.2     3.6.1       wheel\\nwrapt                    1.12.1    1.14.1      wheel\\nxarray                   0.20.1    2022.6.0    wheel\\nxlwings                  0.24.9    0.27.12     wheel\\nyapf                     0.31.0    0.32.0      wheel\\nyarl                     1.6.3     1.8.1       wheel\\nzict                     2.0.0     2.2.0       wheel\\nzipp                     3.7.0     3.8.1       wheel\\n'"
      ]
     },
     "execution_count": 18,
     "metadata": {},
     "output_type": "execute_result"
    }
   ],
   "source": [
    "outdate_list"
   ]
  },
  {
   "cell_type": "code",
   "execution_count": 19,
   "id": "efa21bc8",
   "metadata": {},
   "outputs": [
    {
     "data": {
      "text/plain": [
       "bytes"
      ]
     },
     "execution_count": 19,
     "metadata": {},
     "output_type": "execute_result"
    }
   ],
   "source": [
    "type(outdate_list)"
   ]
  },
  {
   "cell_type": "code",
   "execution_count": 20,
   "id": "38bd65fc",
   "metadata": {},
   "outputs": [
    {
     "data": {
      "text/plain": [
       "'Package                  Version   Latest      Type\\n------------------------ --------- ----------- -----\\nanyio                    3.5.0     3.6.1       wheel\\napplaunchservices        0.2.1     0.3.0       wheel\\nappnope                  0.1.2     0.1.3       wheel\\nappscript                1.1.2     1.2.0       wheel\\nastroid                  2.6.6     2.12.2      wheel\\nastropy                  5.0.4     5.1         wheel\\nasttokens                2.0.5     2.0.7       wheel\\nasync-timeout            4.0.1     4.0.2       wheel\\natomicwrites             1.4.0     1.4.1       sdist\\nattrs                    21.4.0    22.1.0      wheel\\nautopep8                 1.6.0     1.7.0       wheel\\nBabel                    2.9.1     2.10.3      wheel\\nbcrypt                   3.2.0     3.2.2       wheel\\nbitarray                 2.4.1     2.6.0       wheel\\nblack                    19.10b0   22.6.0      wheel\\nbleach                   4.1.0     5.0.1       wheel\\nbokeh                    2.4.2     2.4.3       wheel\\nboto3                    1.21.32   1.24.51     wheel\\nbotocore                 1.24.32   1.27.51     wheel\\nBottleneck               1.3.4     1.3.5       wheel\\ncachetools               4.2.2     5.2.0       wheel\\ncertifi                  2021.10.8 2022.6.15   wheel\\ncffi                     1.15.0    1.15.1      wheel\\nchardet                  4.0.0     5.0.0       wheel\\ncharset-normalizer       2.0.4     2.1.0       wheel\\nclick                    8.0.4     8.1.3       wheel\\ncloudpickle              2.0.0     2.1.0       wheel\\ncolorama                 0.4.4     0.4.5       wheel\\ncolorcet                 2.0.6     3.0.0       wheel\\ncookiecutter             1.7.3     2.1.1       wheel\\ncryptography             3.4.8     37.0.4      wheel\\nCython                   0.29.28   0.29.32     wheel\\ncytoolz                  0.11.0    0.12.0      wheel\\ndaal4py                  2021.5.0  2021.6.3    wheel\\ndask                     2022.2.1  2022.8.0    wheel\\ndatashader               0.13.0    0.14.2      wheel\\ndebugpy                  1.5.1     1.6.2       wheel\\ndistributed              2022.2.1  2022.8.0    wheel\\ndocutils                 0.17.1    0.19        wheel\\nexecuting                0.8.3     0.10.0      wheel\\nfastjsonschema           2.15.1    2.16.1      wheel\\nfilelock                 3.6.0     3.8.0       wheel\\nflake8                   3.9.2     5.0.4       wheel\\nFlask                    1.1.2     2.2.2       wheel\\nfonttools                4.25.0    4.34.4      wheel\\nfrozenlist               1.2.0     1.3.1       wheel\\nfsspec                   2022.2.0  2022.7.1    wheel\\ngensim                   4.1.2     4.2.0       wheel\\ngoogle-api-core          1.25.1    2.8.2       wheel\\ngoogle-auth              1.33.0    2.10.0      wheel\\ngoogle-cloud-core        1.7.1     2.3.2       wheel\\ngoogle-cloud-storage     1.31.0    2.5.0       wheel\\ngoogle-crc32c            1.1.2     1.3.0       wheel\\ngoogle-resumable-media   1.3.1     2.3.3       wheel\\ngoogleapis-common-protos 1.53.0    1.56.4      wheel\\ngreenlet                 1.1.1     1.1.2       wheel\\ngrpcio                   1.42.0    1.47.0      wheel\\nh5py                     3.6.0     3.7.0       wheel\\nholoviews                1.14.8    1.15.0      wheel\\nhvplot                   0.7.3     0.8.0       wheel\\nimagecodecs              2021.8.26 2022.8.8    wheel\\nimageio                  2.9.0     2.21.1      wheel\\nimagesize                1.3.0     1.4.1       wheel\\nimportlib-metadata       4.11.3    4.12.0      wheel\\nipykernel                6.9.1     6.15.1      wheel\\nipython                  8.2.0     8.4.0       wheel\\nipywidgets               7.6.5     7.7.1       wheel\\nisort                    5.9.3     5.10.1      wheel\\nitemadapter              0.3.0     0.7.0       wheel\\nitsdangerous             2.0.1     2.1.2       wheel\\nJinja2                   2.11.3    3.1.2       wheel\\njmespath                 0.10.0    1.0.1       wheel\\njson5                    0.9.6     0.9.9       wheel\\njsonschema               4.4.0     4.9.1       wheel\\njupyter-client           6.1.12    7.3.4       wheel\\njupyter-console          6.4.0     6.4.4       wheel\\njupyter-core             4.9.2     4.11.1      wheel\\njupyter-server           1.13.5    1.18.1      wheel\\njupyterlab               3.3.2     3.4.5       wheel\\njupyterlab-pygments      0.1.2     0.2.2       wheel\\njupyterlab-server        2.10.3    2.15.0      wheel\\njupyterlab-widgets       1.0.0     1.1.1       wheel\\nkeyring                  23.4.0    23.8.2      wheel\\nkiwisolver               1.3.2     1.4.4       wheel\\nlazy-object-proxy        1.6.0     1.7.1       wheel\\nlibarchive-c             2.9       4.0         wheel\\nllvmlite                 0.38.0    0.39.0      wheel\\nlocket                   0.2.1     1.0.0       wheel\\nlxml                     4.8.0     4.9.1       wheel\\nMarkdown                 3.3.4     3.4.1       wheel\\nMarkupSafe               2.0.1     2.1.1       wheel\\nmatplotlib               3.5.1     3.5.3       wheel\\nmatplotlib-inline        0.1.2     0.1.3       wheel\\nmccabe                   0.6.1     0.7.0       wheel\\nmistune                  0.8.4     2.0.4       wheel\\nmsgpack                  1.0.2     1.0.4       wheel\\nmultidict                5.2.0     6.0.2       wheel\\nnbclassic                0.3.5     0.4.3       wheel\\nnbclient                 0.5.13    0.6.6       wheel\\nnbconvert                6.4.4     6.5.3       wheel\\nnbformat                 5.3.0     5.4.0       wheel\\nnetworkx                 2.7.1     2.8.5       wheel\\nnotebook                 6.4.8     6.4.12      wheel\\nnumba                    0.55.1    0.56.0      wheel\\nnumexpr                  2.8.1     2.8.3       wheel\\nnumpy                    1.21.5    1.23.2      wheel\\nnumpydoc                 1.2       1.4.0       wheel\\nopenpyxl                 3.0.9     3.0.10      wheel\\npandas                   1.4.2     1.4.3       wheel\\npanel                    0.13.0    0.13.1      wheel\\nparam                    1.12.0    1.12.2      wheel\\npartd                    1.2.0     1.3.0       wheel\\npathspec                 0.7.0     0.9.0       wheel\\nPillow                   9.0.1     9.2.0       wheel\\npip                      21.2.4    22.2.2      wheel\\npkginfo                  1.8.2     1.8.3       wheel\\nplotly                   5.6.0     5.10.0      wheel\\nprometheus-client        0.13.1    0.14.1      wheel\\nprompt-toolkit           3.0.20    3.0.30      wheel\\nProtego                  0.1.16    0.2.1       wheel\\nprotobuf                 3.19.1    4.21.5      wheel\\npsutil                   5.8.0     5.9.1       wheel\\npycodestyle              2.7.0     2.9.1       wheel\\npyct                     0.4.6     0.4.8       wheel\\npycurl                   7.44.1    7.45.1      sdist\\npyerfa                   2.0.0     2.0.0.1     wheel\\npyflakes                 2.3.1     2.5.0       wheel\\nPygments                 2.11.2    2.12.0      wheel\\nPyHamcrest               2.0.2     2.0.4       wheel\\nPyJWT                    2.1.0     2.4.0       wheel\\npylint                   2.9.6     2.14.5      wheel\\npyodbc                   4.0.32    4.0.34      wheel\\npyOpenSSL                21.0.0    22.0.0      wheel\\npyparsing                3.0.4     3.0.9       wheel\\npyrsistent               0.18.0    0.18.1      wheel\\npytest                   7.1.1     7.1.2       wheel\\npython-lsp-black         1.0.0     1.2.1       wheel\\npython-lsp-server        1.2.4     1.5.0       wheel\\npython-slugify           5.0.2     6.1.2       wheel\\npython-snappy            0.6.0     0.6.1       wheel\\npytz                     2021.3    2022.2.1    wheel\\npyviz-comms              2.0.2     2.2.0       wheel\\npyzmq                    22.3.0    23.2.1      wheel\\nQDarkStyle               3.0.2     3.1         wheel\\nqstylizer                0.1.10    0.2.1       wheel\\nQtAwesome                1.0.3     1.1.1       wheel\\nqtconsole                5.3.0     5.3.1       wheel\\nQtPy                     2.0.1     2.2.0       wheel\\nqueuelib                 1.5.0     1.6.2       wheel\\nregex                    2022.3.15 2022.7.25   wheel\\nrequests                 2.27.1    2.28.1      wheel\\nrope                     0.22.0    1.3.0       wheel\\nrsa                      4.7.2     4.9         wheel\\nRtree                    0.9.7     1.0.0       wheel\\ns3transfer               0.5.0     0.6.0       wheel\\nscikit-image             0.19.2    0.19.3      wheel\\nscikit-learn             1.0.2     1.1.2       wheel\\nscipy                    1.7.3     1.9.0       wheel\\nScrapy                   2.6.1     2.6.2       wheel\\nservice-identity         18.1.0    21.1.0      wheel\\nsetuptools               61.2.0    64.0.3      wheel\\nsip                      4.19.13   6.6.2       wheel\\nsmart-open               5.1.0     6.0.0       wheel\\nsoupsieve                2.3.1     2.3.2.post1 wheel\\nSphinx                   4.4.0     5.1.1       wheel\\nspyder                   5.1.5     5.3.2       wheel\\nspyder-kernels           2.1.3     2.3.2       wheel\\nSQLAlchemy               1.4.32    1.4.40      wheel\\nstack-data               0.2.0     0.4.0       wheel\\ntables                   3.6.1     3.7.0       wheel\\ntabulate                 0.8.9     0.8.10      wheel\\nTBB                      0.2       2021.6.0    wheel\\nterminado                0.13.1    0.15.0      wheel\\ntestpath                 0.5.0     0.6.0       wheel\\ntextdistance             4.2.1     4.3.0       wheel\\nthreadpoolctl            2.2.0     3.1.0       wheel\\ntifffile                 2021.7.2  2022.8.12   wheel\\ntldextract               3.2.0     3.3.1       wheel\\ntomli                    1.2.2     2.0.1       wheel\\ntoolz                    0.11.2    0.12.0      wheel\\ntornado                  6.1       6.2         wheel\\ntraitlets                5.1.1     5.3.0       wheel\\nTwisted                  22.2.0    22.4.0      wheel\\ntyped-ast                1.4.3     1.5.4       wheel\\ntyping_extensions        4.1.1     4.3.0       wheel\\nujson                    5.1.0     5.4.0       wheel\\nUnidecode                1.2.0     1.3.4       wheel\\nurllib3                  1.26.9    1.26.11     wheel\\nw3lib                    1.21.0    2.0.1       wheel\\nwatchdog                 2.1.6     2.1.9       wheel\\nwebsocket-client         0.58.0    1.3.3       wheel\\nWerkzeug                 2.0.3     2.2.2       wheel\\nwidgetsnbextension       3.5.2     3.6.1       wheel\\nwrapt                    1.12.1    1.14.1      wheel\\nxarray                   0.20.1    2022.6.0    wheel\\nxlwings                  0.24.9    0.27.12     wheel\\nyapf                     0.31.0    0.32.0      wheel\\nyarl                     1.6.3     1.8.1       wheel\\nzict                     2.0.0     2.2.0       wheel\\nzipp                     3.7.0     3.8.1       wheel\\n'"
      ]
     },
     "execution_count": 20,
     "metadata": {},
     "output_type": "execute_result"
    }
   ],
   "source": [
    "outdate_list.decode(\"utf-8\") "
   ]
  },
  {
   "cell_type": "code",
   "execution_count": 21,
   "id": "369cacf5",
   "metadata": {},
   "outputs": [
    {
     "data": {
      "text/plain": [
       "str"
      ]
     },
     "execution_count": 21,
     "metadata": {},
     "output_type": "execute_result"
    }
   ],
   "source": [
    "type(outdate_list.decode(\"utf-8\")) "
   ]
  },
  {
   "cell_type": "code",
   "execution_count": null,
   "id": "032bcfb4",
   "metadata": {},
   "outputs": [],
   "source": []
  }
 ],
 "metadata": {
  "kernelspec": {
   "display_name": "Python 3 (ipykernel)",
   "language": "python",
   "name": "python3"
  },
  "language_info": {
   "codemirror_mode": {
    "name": "ipython",
    "version": 3
   },
   "file_extension": ".py",
   "mimetype": "text/x-python",
   "name": "python",
   "nbconvert_exporter": "python",
   "pygments_lexer": "ipython3",
   "version": "3.9.12"
  }
 },
 "nbformat": 4,
 "nbformat_minor": 5
}
